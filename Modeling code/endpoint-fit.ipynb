import numpy as np
from scipy.integrate import odeint
from scipy.optimize import curve_fit
from scipy.optimize import differential_evolution
%matplotlib inline
import matplotlib.pyplot as plt
from matplotlib.backends.backend_pdf import PdfPages
import pandas as pd     

#import from endpoint_maker.py
from endpoint_maker import sqres
from endpoint_maker import func
from endpoint_maker import t
from endpoint_maker import new
from endpoint_maker import lightdata
from endpoint_maker import rawdata

#differential evolution algorithm, parallelized
if __name__ == '__main__':
    def initparams():
        bounds = ([0.00001,1000],[0.00001,1000],[0.00001,1000],[0.00001,1000])
        result = differential_evolution(sqres,bounds,maxiter=100,popsize=20,polish=False, updating='deferred', workers=-1)
        return result

#results of differential evolution
initialp = initparams()
print(initialp)

#run initial parameter set through model to begin fitting
def tester(t,d2,k2,k3,k7,i):

    inivalues = [1,0,0,0,0,0,0]
    arrayvalues = np.asarray([])
   
    def I(t):
        tindex = t/5
        if tindex > 12241:
            tindex = 12240
        return lightdata[i][int(tindex)]
  
    def odes(z,t,d2,k2,k3,k7):
        Pu,Pb,Pa,mRNA,mCherry1,mCherry2,mCherry3 = z
        d1 = 0.019905
        k1 = 0.08299
        Kd = 90.41
        n = 0.964487
        #d2= 486.67 
        #k2= 6.597 
        #k3= 0.0539 
        
            
        d3 = 0.000077
        k4 = 1.25
        d4 = 0.000031
        k5 = 0.00283
        k6 = 0.00283
            
        Pu = z[0]
        Pb = z[1]
        Pa = z[2]
        mRNA = z[3]
        mCherry1 = z[4]
        mCherry2 = z[5]
        mCherry3 = z[6]

        dPudt = d1*Pb - k1*I(t)**n/(Kd**n+I(t)**n)*Pu - k7*I(t)**n/(Kd**n+I(t)**n)*Pu
        dPbdt = k1*I(t)**n/(Kd**n+I(t)**n)*Pu - k2*Pb - d1*Pb + d2*Pa
        dPadt = k2*Pb - d2*Pa + k7*I(t)**n/(Kd**n+I(t)**n)*Pu
        dmRNAdt = k3*Pa - d3*mRNA
        dmCherry1dt = k4*mRNA-(d4 + k5)*mCherry1
        dmCherry2dt = k5*mCherry1-(d4+k6)*mCherry2
        dmCherry3dt = k6*mCherry2 - d4*mCherry3



        return [dPudt,dPbdt,dPadt,dmRNAdt,dmCherry1dt,dmCherry2dt,dmCherry3dt]  

    solver = odeint(odes,inivalues,t,args = (d2,k2,k3,k7),hmax=0.1)
    
    mCherryout = solver[:,6]
    return mCherryout

print(initialp.x)

#curvefitting
popt, covt = curve_fit(func,t,new,initialp.x,maxfev=1000000)
d2,k2,k3,k7 = popt
print('d2=',d2,'k2=',k2,'k3=',k3,'k7=',k7)

#calculate R2
import sys
import numpy
params = [1,1,1,1]
numpy.set_printoptions(threshold=10)
model1 = np.asarray(func(t,d2,k2,k3,k7))

a,b,c,d= params

ydata = np.asarray(new)
print(len(ydata))

ssr = np.sum((ydata-model1)**2)
sst = np.sum((ydata-np.mean(ydata))**2)
R2=1-ssr/sst
print('R2 is:', R2)

