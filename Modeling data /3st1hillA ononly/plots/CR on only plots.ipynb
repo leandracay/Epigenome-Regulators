{
 "cells": [
  {
   "cell_type": "code",
   "execution_count": 14,
   "metadata": {},
   "outputs": [],
   "source": [
    "import numpy as np\n",
    "\n",
    "%matplotlib inline\n",
    "import matplotlib.pyplot as plt\n",
    "from matplotlib.backends.backend_pdf import PdfPages\n"
   ]
  },
  {
   "cell_type": "code",
   "execution_count": 75,
   "metadata": {
    "scrolled": true
   },
   "outputs": [
    {
     "name": "stdout",
     "output_type": "stream",
     "text": [
      "6961\n",
      "6961\n"
     ]
    },
    {
     "data": {
      "image/png": "[encoded data removed]",
      "text/plain": [
       "<Figure size 432x288 with 1 Axes>"
      ]
     },
     "metadata": {
      "needs_background": "light"
     },
     "output_type": "display_data"
    },
    {
     "data": {
      "image/png": "[encoded data removed]",
      "text/plain": [
       "<Figure size 432x288 with 1 Axes>"
      ]
     },
     "metadata": {
      "needs_background": "light"
     },
     "output_type": "display_data"
    },
    {
     "name": "stdout",
     "output_type": "stream",
     "text": [
      "6961\n",
      "6961\n"
     ]
    },
    {
     "data": {
      "image/png": "[encoded data removed]",
      "text/plain": [
       "<Figure size 432x288 with 1 Axes>"
      ]
     },
     "metadata": {
      "needs_background": "light"
     },
     "output_type": "display_data"
    },
    {
     "data": {
      "image/png": "[encoded data removed]",
      "text/plain": [
       "<Figure size 432x288 with 1 Axes>"
      ]
     },
     "metadata": {
      "needs_background": "light"
     },
     "output_type": "display_data"
    }
   ],
   "source": [
    "import csv\n",
    "pp = PdfPages('multipage.pdf')\n",
    "data = np.transpose(np.delete(np.genfromtxt('tod6data.csv',delimiter=','),0,0))\n",
    "\n",
    "\n",
    "for i in range(2):\n",
    "#for i in range(len(lightdata[:,0])):\n",
    "    model_I50 = data[0,:]\n",
    "    \n",
    "    t = np.linspace(0,34800, num=6961)\n",
    "    exp_t = t\n",
    "    print(len(exp_t))\n",
    "    \n",
    "    exp_I50 = data[2,:]\n",
    "    print(len(exp_I50))\n",
    "    \n",
    "      \n",
    "    model_I100 =data[1,:]\n",
    "    \n",
    "    exp_I100 = data[3,:]\n",
    "\n",
    "    \n",
    "    plt.figure(1)\n",
    "    plt.plot(exp_t,model_I50,label='model I=50',color='darkblue')\n",
    "    plt.scatter(exp_t,exp_I50, c='lightsteelblue')\n",
    "    \n",
    "    plt.scatter(exp_t[240], exp_I50[240], c='royalblue', marker='o', s=10);\n",
    "    plt.scatter(exp_t[480], exp_I50[480], c='royalblue', marker='o', s=10);\n",
    "    plt.scatter(exp_t[720], exp_I50[720], c='royalblue', marker='o', s=10);\n",
    "    plt.scatter(exp_t[960], exp_I50[960], c='royalblue', marker='o', s=10);\n",
    "    plt.scatter(exp_t[1200], exp_I50[1200], c='royalblue', marker='o', s=10);\n",
    "    plt.scatter(exp_t[1440], exp_I50[1440], c='royalblue', marker='o', s=10);\n",
    "    plt.scatter(exp_t[1680], exp_I50[1680], c='royalblue', marker='o', s=10);\n",
    "    plt.scatter(exp_t[1920], exp_I50[1920], c='royalblue', marker='o', s=10);\n",
    "    plt.scatter(exp_t[2160], exp_I50[2160], c='royalblue', marker='o', s=10);\n",
    "    plt.scatter(exp_t[2400], exp_I50[2400], c='royalblue', marker='o', s=10);\n",
    "    plt.scatter(exp_t[2640], exp_I50[2640], c='royalblue', marker='o', s=10);\n",
    "    plt.scatter(exp_t[2880], exp_I50[2880], c='royalblue', marker='o', s=10);\n",
    "    plt.scatter(exp_t[3120], exp_I50[3120], c='royalblue', marker='o', s=10);\n",
    "    plt.scatter(exp_t[3360], exp_I50[3360], c='royalblue', marker='o', s=10);\n",
    "    plt.scatter(exp_t[3600], exp_I50[3600], c='royalblue', marker='o', s=10);\n",
    "    plt.scatter(exp_t[3840], exp_I50[3840], c='royalblue', marker='o', s=10);\n",
    "    plt.scatter(exp_t[4080], exp_I50[4080], c='royalblue', marker='o', s=10);\n",
    "    plt.scatter(exp_t[4320], exp_I50[4320], c='royalblue', marker='o', s=10);\n",
    "    plt.scatter(exp_t[4560], exp_I50[4560], c='royalblue', marker='o', s=10);\n",
    "    plt.scatter(exp_t[4800], exp_I50[4800], c='royalblue', marker='o', s=10);\n",
    "    plt.scatter(exp_t[5040], exp_I50[5040], c='royalblue', marker='o', s=10);\n",
    "    plt.scatter(exp_t[5280], exp_I50[5280], c='royalblue', marker='o', s=10);\n",
    "    plt.scatter(exp_t[5520], exp_I50[5520], c='royalblue', marker='o', s=10);\n",
    "    plt.scatter(exp_t[5760], exp_I50[5760], c='royalblue', marker='o', s=10);\n",
    "    plt.scatter(exp_t[6000], exp_I50[6000], c='royalblue', marker='o', s=10);\n",
    "    plt.scatter(exp_t[6240], exp_I50[6240], c='royalblue', marker='o', s=10);\n",
    "    plt.scatter(exp_t[6480], exp_I50[6480], c='royalblue', marker='o', s=10);\n",
    "    plt.scatter(exp_t[6720], exp_I50[6720], c='royalblue', marker='o', s=10);\n",
    "    plt.scatter(exp_t[6960], exp_I50[6960], c='royalblue', marker='o', s=10);\n",
    "\n",
    "    #plt.legend()\n",
    "    \n",
    "   \n",
    "    plt.xlabel('Time [s]')\n",
    "    plt.ylabel('Fluorescence')\n",
    "    plt. suptitle('tod6 ',fontsize = 14)\n",
    "    plt.ylim((0,0.5))\n",
    "    #plt.xlim((0,3600))\n",
    "    plt.savefig(\"tod6_50.svg\")\n",
    "    plt.show()\n",
    "    \n",
    "    \n",
    "    plt.figure(2)\n",
    "    plt.plot(exp_t,model_I100, label='model I=100',color='darkgreen')\n",
    "    plt.scatter(exp_t,exp_I100, c='lightgreen')\n",
    "    plt.scatter(exp_t[240], exp_I100[240], c='forestgreen', marker='o', s=10);\n",
    "    plt.scatter(exp_t[480],  exp_I100[480], c='forestgreen', marker='o', s=10);\n",
    "    plt.scatter(exp_t[720],  exp_I100[720], c='forestgreen', marker='o', s=10);\n",
    "    plt.scatter(exp_t[960],  exp_I100[960], c='forestgreen', marker='o', s=10);\n",
    "    plt.scatter(exp_t[1200],  exp_I100[1200], c='forestgreen', marker='o', s=10);\n",
    "    plt.scatter(exp_t[1440],  exp_I100[1440], c='forestgreen', marker='o', s=10);\n",
    "    plt.scatter(exp_t[1680],  exp_I100[1680], c='forestgreen', marker='o', s=10);\n",
    "    plt.scatter(exp_t[1920],  exp_I100[1920], c='forestgreen', marker='D', s=10);\n",
    "    plt.scatter(exp_t[2160],  exp_I100[2160], c='forestgreen', marker='o', s=10);\n",
    "    plt.scatter(exp_t[2400],  exp_I100[2400], c='forestgreen', marker='o', s=10);\n",
    "    plt.scatter(exp_t[2640],  exp_I100[2640], c='forestgreen', marker='o', s=10);\n",
    "    plt.scatter(exp_t[2880],  exp_I100[2880], c='forestgreen', marker='o', s=10);\n",
    "    plt.scatter(exp_t[3120],  exp_I100[3120], c='forestgreen', marker='o', s=10);\n",
    "    plt.scatter(exp_t[3360],  exp_I100[3360], c='forestgreen', marker='o', s=10);\n",
    "    plt.scatter(exp_t[3600],  exp_I100[3600], c='forestgreen', marker='o', s=10);\n",
    "    plt.scatter(exp_t[3840],  exp_I100[3840], c='forestgreen', marker='o', s=10);\n",
    "    plt.scatter(exp_t[4080],  exp_I100[4080], c='forestgreen', marker='o', s=10);\n",
    "    plt.scatter(exp_t[4320],  exp_I100[4320], c='forestgreen', marker='o', s=10);\n",
    "    plt.scatter(exp_t[4560],  exp_I100[4560], c='forestgreen', marker='o', s=10);\n",
    "    plt.scatter(exp_t[4800],  exp_I100[4800], c='forestgreen', marker='o', s=10);\n",
    "    plt.scatter(exp_t[5040],  exp_I100[5040], c='forestgreen', marker='o', s=10);\n",
    "    plt.scatter(exp_t[5280],  exp_I100[5280], c='forestgreen', marker='o', s=10);\n",
    "    plt.scatter(exp_t[5520],  exp_I100[5520], c='forestgreen', marker='o', s=10);\n",
    "    plt.scatter(exp_t[5760],  exp_I100[5760], c='forestgreen', marker='o', s=10);\n",
    "    plt.scatter(exp_t[6000],  exp_I100[6000], c='forestgreen', marker='o', s=10);\n",
    "    plt.scatter(exp_t[6240],  exp_I100[6240], c='forestgreen', marker='o', s=10);\n",
    "    plt.scatter(exp_t[6480],  exp_I100[6480], c='forestgreen', marker='o', s=10);\n",
    "    plt.scatter(exp_t[6720],  exp_I100[6720], c='forestgreen', marker='o', s=10);\n",
    "    plt.scatter(exp_t[6960],  exp_I100[6960], c='forestgreen', marker='o', s=10);\n",
    "\n",
    "    #plt.legend()\n",
    "    \n",
    "   \n",
    "    plt.xlabel('Time [s]')\n",
    "    plt.ylabel('Fluorescence')\n",
    "    plt. suptitle('tod6',fontsize = 14)\n",
    "    plt.ylim((0,0.5))\n",
    "    #plt.xlim((0,3600))\n",
    "    plt.savefig(\"tod6_100.svg\")\n",
    "    plt.show()\n",
    "    \n",
    "pp.close()"
   ]
  },
  {
   "cell_type": "code",
   "execution_count": null,
   "metadata": {},
   "outputs": [],
   "source": []
  }
 ],
 "metadata": {
  "kernelspec": {
   "display_name": "Python 3",
   "language": "python",
   "name": "python3"
  },
  "language_info": {
   "codemirror_mode": {
    "name": "ipython",
    "version": 3
   },
   "file_extension": ".py",
   "mimetype": "text/x-python",
   "name": "python",
   "nbconvert_exporter": "python",
   "pygments_lexer": "ipython3",
   "version": "3.8.5"
  }
 },
 "nbformat": 4,
 "nbformat_minor": 4
}
